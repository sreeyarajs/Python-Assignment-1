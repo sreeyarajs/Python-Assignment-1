{
 "cells": [
  {
   "cell_type": "code",
   "execution_count": 1,
   "id": "3e2fc4b8-3678-4e74-8306-a9a173884e07",
   "metadata": {},
   "outputs": [
    {
     "name": "stdout",
     "output_type": "stream",
     "text": [
      "Name: Sreeya Raj\n",
      "Course: Python Programming Language\n",
      "3.12.4 | packaged by Anaconda, Inc. | (main, Jun 18 2024, 15:03:56) [MSC v.1929 64 bit (AMD64)]\n"
     ]
    }
   ],
   "source": [
    "'''\n",
    "Write a Python script that prints your name, course name, and the Python version you're using.\n",
    "'''\n",
    "import sys\n",
    "#Declaring and Assigning the variable Name\n",
    "name = \"Sreeya Raj\" \n",
    "#Declaring and Assigning the variable Course\n",
    "course = \"Python Programming Language\"\n",
    "#Printing  my Name:,Course:   using the f-string\n",
    "print(f\"Name: {name}\")\n",
    "print(f\"Course: {course}\")\n",
    "#To print the Python Version In Use\n",
    "print(sys.version)"
   ]
  },
  {
   "cell_type": "code",
   "execution_count": 3,
   "id": "5ae45809-cd05-4305-b47c-872bc2c644cc",
   "metadata": {},
   "outputs": [
    {
     "name": "stdin",
     "output_type": "stream",
     "text": [
      "Enter your first name:  Sreeya\n",
      "Enter your last name:  Raj\n"
     ]
    },
    {
     "name": "stdout",
     "output_type": "stream",
     "text": [
      "Reversed full name: Raj Sreeya\n"
     ]
    }
   ],
   "source": [
    "'''\n",
    "Write a Python program that takes a user's first and last name as input and prints them in reverse order with a space between them.\n",
    "'''\n",
    "# Get user firstname as input\n",
    "first_name = input(\"Enter your first name: \")\n",
    "\n",
    "# Get user last name as input\n",
    "last_name = input(\"Enter your last name: \")\n",
    "\n",
    "# Combine both names in reverse order with a space in between\n",
    "full_name_reversed = last_name + \" \" + first_name\n",
    "\n",
    "# Print the reversed full name using the f-string method\n",
    "print(\"Reversed full name:\", full_name_reversed)"
   ]
  },
  {
   "cell_type": "code",
   "execution_count": 5,
   "id": "e9f3ae26-4d16-49f9-837d-862db7bfbef5",
   "metadata": {},
   "outputs": [
    {
     "name": "stdout",
     "output_type": "stream",
     "text": [
      "Original string: ni hao ma.\n",
      "Uppercase string: NI HAO MA.\n",
      "Altered string: ni hao ma?\n"
     ]
    }
   ],
   "source": [
    "'''\n",
    "Use at least two string methods and explain their purpose in the comments.\n",
    "'''\n",
    "# This line assigns the string value \"How are you.\" to the variable input_string\n",
    "input_string = \"ni hao ma.\"\n",
    "\n",
    "#Converts characters to UPPERCASE\n",
    "uppercase_string = input_string.upper()\n",
    "\n",
    "#Replacement of character in a string\n",
    "altered_string = input_string.replace(\".\", \"?\")\n",
    "\n",
    "# Print the results using the f-string method\n",
    "print(\"Original string:\", input_string)\n",
    "print(\"Uppercase string:\", uppercase_string)\n",
    "print(\"Altered string:\", altered_string)"
   ]
  },
  {
   "cell_type": "code",
   "execution_count": 9,
   "id": "77225309-f055-4de0-90c5-76a519ecbf5f",
   "metadata": {},
   "outputs": [
    {
     "name": "stdin",
     "output_type": "stream",
     "text": [
      "Enter a number: 7\n"
     ]
    },
    {
     "name": "stdout",
     "output_type": "stream",
     "text": [
      "Converted to int: 7\n",
      "converted to float: 7.0\n",
      "converted to complex: (7+0j)\n"
     ]
    }
   ],
   "source": [
    "'''\n",
    "Write a Python program that takes an input number from the user, \n",
    "converts it to different numeric data types (integer, float, and complex), and displays the converted values.\n",
    "'''\n",
    "number= input(\"Enter a number:\")\n",
    "i=int(number) #represents whole numbers\n",
    "f=float(number) #represents real numbers that have a decimal point\n",
    "c=complex(number) #represents complex numbers in the form of (a+bj), where a is real part and b is imaginary part\n",
    "print( \"Converted to int:\", i)\n",
    "print(\"converted to float:\",f)\n",
    "print (\"converted to complex:\",c)"
   ]
  },
  {
   "cell_type": "code",
   "execution_count": 11,
   "id": "b9374813-315a-4448-86a7-e93a09957948",
   "metadata": {},
   "outputs": [
    {
     "name": "stdin",
     "output_type": "stream",
     "text": [
      "Enter the length of the rectangle:  20\n",
      "Enter the width of the rectangle:  14\n"
     ]
    },
    {
     "name": "stdout",
     "output_type": "stream",
     "text": [
      "The area of the rectangle is: 280.0\n"
     ]
    }
   ],
   "source": [
    "'''\n",
    "Create a Python script that calculates the area of a rectangle.\n",
    "'''\n",
    "# takes the lenght as input from user\n",
    "length = float(input(\"Enter the length of the rectangle: \"))\n",
    "# takes the width as input from user\n",
    "width = float(input(\"Enter the width of the rectangle: \"))\n",
    "# Calculate the area (length * width)\n",
    "area = length * width\n",
    "# Display the result using the f-string method\n",
    "print(f\"The area of the rectangle is: {area}\")"
   ]
  },
  {
   "cell_type": "code",
   "execution_count": 13,
   "id": "abd3a0bb-4f4d-4243-be09-be1b8a1ca474",
   "metadata": {},
   "outputs": [
    {
     "name": "stdin",
     "output_type": "stream",
     "text": [
      "Enter the length of the rectangle:  22\n",
      "Enter the width of the rectangle:  20\n"
     ]
    },
    {
     "name": "stdout",
     "output_type": "stream",
     "text": [
      "The area of the rectangle is: 440.00\n"
     ]
    }
   ],
   "source": [
    "'''\n",
    "Modify the rectangle area program to format the output so that it displays the area with two decimal places.\n",
    "'''\n",
    "# takes the length as input from the user\n",
    "length = float(input(\"Enter the length of the rectangle: \"))\n",
    "# takes the width as input from the user\n",
    "width = float(input(\"Enter the width of the rectangle: \"))\n",
    "# Calculate the area (length * width)\n",
    "area = length * width\n",
    "# Display the area of rectangle up to two decimal places \n",
    "print(f\"The area of the rectangle is: {area:.2f}\")"
   ]
  },
  {
   "cell_type": "code",
   "execution_count": 15,
   "id": "5995cddd-241d-4348-8174-d0220ef9c841",
   "metadata": {},
   "outputs": [
    {
     "name": "stdin",
     "output_type": "stream",
     "text": [
      "Enter the first number here:  5\n",
      "Enter the second number here:  7\n",
      "Enter the third number here:  10\n"
     ]
    },
    {
     "name": "stdout",
     "output_type": "stream",
     "text": [
      "The average of the three numbers is: 7.33\n"
     ]
    }
   ],
   "source": [
    "'''\n",
    "Q) Write a Python script that takes three numbers as input and prints their average using the % method for string formatting.\n",
    "Also, use the print function to display a message that states, \"The average of the three numbers is: [calculated average]\".\n",
    "'''\n",
    "#Taking three numbers as input from the user\n",
    "num1 = input(\"Enter the first number here: \")\n",
    "num2 = input(\"Enter the second number here: \")\n",
    "num3 = input(\"Enter the third number here: \")\n",
    "\n",
    "try:\n",
    "    #convering input to float\n",
    "    num1 = float(num1)\n",
    "    num2 = float(num2)\n",
    "    num3 = float(num3)\n",
    "    \n",
    "    # Calculating the average\n",
    "    average = (num1 + num2 + num3) / 3\n",
    "\n",
    "    # Printing the average using % formatting\n",
    "    print(\"The average of the three numbers is: %.2f\" % average)\n",
    "\n",
    "except ValueError:\n",
    "    print(\"Invalid input. Please enter a valid numeric value.\")"
   ]
  },
  {
   "cell_type": "code",
   "execution_count": 17,
   "id": "d184628c-9d2e-4983-a7e4-872efa2455a9",
   "metadata": {},
   "outputs": [
    {
     "name": "stdin",
     "output_type": "stream",
     "text": [
      "Enter a number here (or 'exit' to quit):  22\n"
     ]
    },
    {
     "name": "stdout",
     "output_type": "stream",
     "text": [
      "It is Positive number\n"
     ]
    },
    {
     "name": "stdin",
     "output_type": "stream",
     "text": [
      "Enter a number here (or 'exit' to quit):  99\n"
     ]
    },
    {
     "name": "stdout",
     "output_type": "stream",
     "text": [
      "It is Positive number\n"
     ]
    },
    {
     "name": "stdin",
     "output_type": "stream",
     "text": [
      "Enter a number here (or 'exit' to quit):  -1\n"
     ]
    },
    {
     "name": "stdout",
     "output_type": "stream",
     "text": [
      "It is Negative number\n"
     ]
    },
    {
     "name": "stdin",
     "output_type": "stream",
     "text": [
      "Enter a number here (or 'exit' to quit):  exit\n"
     ]
    },
    {
     "name": "stdout",
     "output_type": "stream",
     "text": [
      "Exiting the program.\n"
     ]
    }
   ],
   "source": [
    "'''\n",
    "Write a Python program that asks the user for a number and determines whether it is positive, negative, or zero.\n",
    "\n",
    "Implement a loop that continues to ask the user for a number until they enter 'exit'.\n",
    "\n",
    "Use break to exit the loop and continue to prompt for a new number if the input is not 'exit'.\n",
    "'''\n",
    "# Initialize the loop\n",
    "while True:\n",
    "    # takes the user's input\n",
    "    input_num = input(\"Enter a number here (or 'exit' to quit): \")\n",
    "\n",
    "    # Check if the user wants to exit\n",
    "    if input_num.lower() == 'exit':\n",
    "        print(\"Exiting the program.\")\n",
    "        \n",
    "        break\n",
    "\n",
    "    try:\n",
    "        # Convert input_num to a floating-point number\n",
    "        number = float(input_num)\n",
    "        \n",
    "        # finding the number is positive, negative, or zero\n",
    "        if number > 0:\n",
    "            print(\"It is Positive number\")\n",
    "        elif number < 0:\n",
    "            print(\"It is Negative number\")\n",
    "        else:\n",
    "            print(\"Zero\")\n",
    "    except ValueError:\n",
    "        # Handle invalid input (non-numeric or empty input)\n",
    "        print(\"Invalid input.\")"
   ]
  },
  {
   "cell_type": "code",
   "execution_count": 19,
   "id": "6ff1bee2-a226-4186-b088-1668c2788448",
   "metadata": {},
   "outputs": [
    {
     "name": "stdin",
     "output_type": "stream",
     "text": [
      "Enter the first number:  33\n",
      "Enter the second number:  22\n"
     ]
    },
    {
     "name": "stdout",
     "output_type": "stream",
     "text": [
      "One number is even and the other is odd.\n"
     ]
    }
   ],
   "source": [
    "'''\n",
    "Create a Python script that takes two numbers as input and prints whether both numbers are even, odd, \n",
    "or one of each using relational and logical operators.\n",
    "'''\n",
    "# Takes two numbers as input from the user\n",
    "num1 = int(input(\"Enter the first number: \"))\n",
    "num2 = int(input(\"Enter the second number: \"))\n",
    "\n",
    "# Check if both numbers are even, both are odd or one of each\n",
    "if num1 % 2 == 0 and num2 % 2 == 0:\n",
    "    print(\"Both of the numbers are even.\")\n",
    "elif num1 % 2 != 0 and num2 % 2 != 0:\n",
    "    print(\"Both of the numbers are odd.\")\n",
    "else:\n",
    "    print(\"One number is even and the other is odd.\")"
   ]
  },
  {
   "cell_type": "code",
   "execution_count": 21,
   "id": "3010a132-1cf5-458f-821b-14bec90fe2cb",
   "metadata": {},
   "outputs": [
    {
     "name": "stdin",
     "output_type": "stream",
     "text": [
      "Enter an integer:  22\n"
     ]
    },
    {
     "name": "stdout",
     "output_type": "stream",
     "text": [
      "Binary equivalent: 10110\n",
      "Octal equivalent: 26\n",
      "Hexadecimal equivalent: 16\n"
     ]
    }
   ],
   "source": [
    "'''\n",
    "Write a Python program that takes an integer input and prints its binary, octal,\n",
    "and hexadecimal equivalents using a for loop and bitwise operators.\n",
    "'''\n",
    "# Get integer input from the user\n",
    "num = int(input(\"Enter an integer: \"))\n",
    "\n",
    "# Initialize empty strings to store the binary, octal, and hexadecimal equivalents\n",
    "binary = \"\"\n",
    "octal = \"\"\n",
    "hexadecimal = \"\"\n",
    "\n",
    "# For loop to generate binary, octal, and hexadecimal strings\n",
    "for shift in range(num.bit_length(), -1, -1):\n",
    "    # Generate the binary equivalent\n",
    "    binary += \"1\" if (num & (1 << shift)) else \"0\"\n",
    "    \n",
    "# Remove leading zeros from the binary string\n",
    "binary = binary.lstrip(\"0\") or \"0\"\n",
    "\n",
    "# For octal and hexadecimal, we use Python's built-in format functions\n",
    "octal = format(num, 'o')\n",
    "hexadecimal = format(num, 'x')\n",
    "\n",
    "# Print the results\n",
    "print(f\"Binary equivalent: {binary}\")\n",
    "print(f\"Octal equivalent: {octal}\")\n",
    "print(f\"Hexadecimal equivalent: {hexadecimal}\")"
   ]
  },
  {
   "cell_type": "code",
   "execution_count": null,
   "id": "3855d51f-121e-4dd2-9cde-99b8d15b291f",
   "metadata": {},
   "outputs": [],
   "source": []
  }
 ],
 "metadata": {
  "kernelspec": {
   "display_name": "Python 3 (ipykernel)",
   "language": "python",
   "name": "python3"
  },
  "language_info": {
   "codemirror_mode": {
    "name": "ipython",
    "version": 3
   },
   "file_extension": ".py",
   "mimetype": "text/x-python",
   "name": "python",
   "nbconvert_exporter": "python",
   "pygments_lexer": "ipython3",
   "version": "3.12.4"
  }
 },
 "nbformat": 4,
 "nbformat_minor": 5
}
